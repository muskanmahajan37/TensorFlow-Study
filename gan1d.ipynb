{
 "cells": [
  {
   "cell_type": "markdown",
   "metadata": {},
   "source": [
    "### GAN 1D\n",
    "\n",
    "References\n",
    "- http://blog.naver.com/atelierjpro/220984758512\n",
    "- https://github.com/hwalsuklee/tensorflow-GAN-1d-gaussian-ex\n",
    "- http://blog.aylien.com/introduction-generative-adversarial-networks-code-tensorflow/\n",
    "- http://matplotlib.org/1.2.1/examples/pylab_examples/histogram_demo.html"
   ]
  },
  {
   "cell_type": "code",
   "execution_count": 1,
   "metadata": {
    "collapsed": false
   },
   "outputs": [],
   "source": [
    "import random\n",
    "import numpy as np\n",
    "import matplotlib.pyplot as plt\n",
    "import matplotlib.mlab as mlab\n",
    "import tensorflow as tf\n",
    "%matplotlib inline\n",
    "\n",
    "# Disable GPU\n",
    "import os\n",
    "os.environ['CUDA_VISIBLE_DEVICES'] = ''"
   ]
  },
  {
   "cell_type": "code",
   "execution_count": 2,
   "metadata": {
    "collapsed": false
   },
   "outputs": [],
   "source": [
    "mu = 4\n",
    "sigma = 0.5\n",
    "x_real = np.random.normal(mu, sigma, size=10 ** 5)\n",
    "x_real = np.reshape(x_real, (x_real.shape[0], 1))"
   ]
  },
  {
   "cell_type": "code",
   "execution_count": 3,
   "metadata": {
    "collapsed": false
   },
   "outputs": [],
   "source": [
    "class GAN:\n",
    "    def __init__(self, dim_z, dim_x):\n",
    "        self.dim_x = dim_x\n",
    "        self.dim_z = dim_z\n",
    "        my_init=tf.truncated_normal_initializer(stddev=1.0)\n",
    "        \n",
    "        # Placeholders\n",
    "        self.x = tf.placeholder(tf.float32, [None, self.dim_x])\n",
    "        self.z = tf.placeholder(tf.float32, [None, self.dim_z])\n",
    "        self.lr = tf.placeholder(tf.float32)\n",
    "        \n",
    "        # Generator\n",
    "        with tf.variable_scope('G'):\n",
    "            self.G = tf.layers.dense(self.z, self.dim_x, kernel_initializer=my_init)\n",
    "        \n",
    "        # Discriminator\n",
    "        with tf.variable_scope('D') as scope:\n",
    "            self.D_real = tf.layers.dense(self.x, 1, activation=tf.sigmoid, kernel_initializer=my_init, name='D')\n",
    "            scope.reuse_variables()\n",
    "            self.D_fake = tf.layers.dense(self.G, 1, activation=tf.sigmoid, kernel_initializer=my_init, name='D')\n",
    "        \n",
    "        # Losses\n",
    "        self.loss_G      = tf.reduce_mean(-tf.log(self.D_fake))\n",
    "        self.loss_D_real = tf.reduce_mean(-tf.log(self.D_real))\n",
    "        self.loss_D_fake = tf.reduce_mean(-tf.log(1 - self.D_fake))\n",
    "        self.loss_D      = tf.reduce_mean((self.loss_D_real, self.loss_D_fake))\n",
    "        \n",
    "        # Optmizers\n",
    "        def optimizer(loss, var_list):\n",
    "            return tf.train.AdamOptimizer(self.lr).minimize(loss, var_list=var_list)\n",
    "        g_params = [v for v in tf.trainable_variables() if v.name.startswith('G/')]\n",
    "        d_params = [v for v in tf.trainable_variables() if v.name.startswith('D/')]\n",
    "        self.train_G = optimizer(self.loss_G, g_params)\n",
    "        self.train_D = optimizer(self.loss_D, d_params)\n",
    "        \n",
    "    def _generate_noise(self, cnt):\n",
    "        return np.random.uniform(-1., 1., size=[cnt, self.dim_z])\n",
    "    \n",
    "    def train(self, sess, x, lr):\n",
    "        noise = self._generate_noise(x.shape[0])\n",
    "        sess.run(self.train_D, feed_dict={self.x: x, self.z: noise, self.lr: lr})\n",
    "        sess.run(self.train_G, feed_dict={           self.z: noise, self.lr: lr})\n",
    "        \n",
    "    def loss(self, sess, x):\n",
    "        noise = self._generate_noise(x.shape[0])\n",
    "        loss_G = sess.run(self.loss_G, feed_dict={           self.z: noise})\n",
    "        loss_D = sess.run(self.loss_D, feed_dict={self.x: x, self.z: noise})\n",
    "        return loss_G, loss_D\n",
    "    \n",
    "    def generate_data(self, sess, cnt):\n",
    "        noise = self._generate_noise(cnt)\n",
    "        return sess.run(self.G, feed_dict={self.z: noise})"
   ]
  },
  {
   "cell_type": "code",
   "execution_count": 4,
   "metadata": {
    "collapsed": true
   },
   "outputs": [],
   "source": [
    "def plot_data(x_real, x_fake, path=None):\n",
    "    plt.rc('font', size=20)\n",
    "    \n",
    "    f, ax = plt.subplots(figsize=(12, 9))\n",
    "    \n",
    "    n, bins, patches = plt.hist(x_real, 50, normed=1, facecolor='blue', alpha=0.0)\n",
    "    y = mlab.normpdf(bins, x_real.mean(), x_real.std())\n",
    "    l = plt.plot(bins, y, 'b-', linewidth=2.5, label='real data')\n",
    "    \n",
    "    n, bins, patches = plt.hist(x_fake, 50, normed=1, facecolor='red', alpha=0.0)\n",
    "    y = mlab.normpdf(bins, x_fake.mean(), x_fake.std())\n",
    "    l = plt.plot(bins, y, 'r-', linewidth=2.5, label='generated data')\n",
    "    \n",
    "    legend = ax.legend(loc='upper center')\n",
    "    \n",
    "    plt.ylabel('Probability')\n",
    "    plt.title(r'GAN for 1D Data ($\\mu = %.1f, \\sigma = %.1f$)'%(mu, sigma))\n",
    "    plt.axis([-6, 6, 0, 1.4])\n",
    "    plt.grid(True)\n",
    "    \n",
    "    if path == None:\n",
    "        plt.show()\n",
    "    else:\n",
    "        plt.savefig(path, bbox_inches='tight')"
   ]
  },
  {
   "cell_type": "code",
   "execution_count": 5,
   "metadata": {
    "collapsed": false,
    "scrolled": true
   },
   "outputs": [],
   "source": [
    "tf.reset_default_graph()\n",
    "\n",
    "with tf.Session() as sess:\n",
    "    gan = GAN(dim_z=2*7, dim_x=1)\n",
    "    \n",
    "    sess.run(tf.global_variables_initializer())\n",
    "    sess.run(tf.local_variables_initializer())\n",
    "    \n",
    "    MB_SIZE = 2 ** 5\n",
    "    NUM_ITER = 50001\n",
    "    num_img = 1\n",
    "    \n",
    "    for iter in xrange(NUM_ITER):\n",
    "        x_mb = x_real[[random.randint(a=0, b=x_real.shape[0]-1) for _ in range(MB_SIZE)]]\n",
    "        lr = 0.001 * (1 - float(iter) / NUM_ITER)\n",
    "        gan.train(sess, x_mb, lr)\n",
    "        \n",
    "        if iter % 100 == 0:\n",
    "            loss_D, loss_G = gan.loss(sess, x_mb)\n",
    "            x_fake = gan.generate_data(sess, 10 ** 5)\n",
    "            #plot_data(x_real, x_fake, 'plot/%d.png'%num_img)\n",
    "            num_img += 1"
   ]
  }
 ],
 "metadata": {
  "kernelspec": {
   "display_name": "Python 2",
   "language": "python",
   "name": "python2"
  },
  "language_info": {
   "codemirror_mode": {
    "name": "ipython",
    "version": 2
   },
   "file_extension": ".py",
   "mimetype": "text/x-python",
   "name": "python",
   "nbconvert_exporter": "python",
   "pygments_lexer": "ipython2",
   "version": "2.7.6"
  }
 },
 "nbformat": 4,
 "nbformat_minor": 0
}
