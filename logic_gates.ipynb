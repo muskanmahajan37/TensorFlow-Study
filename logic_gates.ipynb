{
 "cells": [
  {
   "cell_type": "code",
   "execution_count": 1,
   "metadata": {
    "collapsed": true
   },
   "outputs": [],
   "source": [
    "import tensorflow as tf\n",
    "import numpy as np"
   ]
  },
  {
   "cell_type": "markdown",
   "metadata": {},
   "source": [
    "# Logic gate definition"
   ]
  },
  {
   "cell_type": "code",
   "execution_count": 2,
   "metadata": {
    "collapsed": false
   },
   "outputs": [],
   "source": [
    "gate_and  = lambda x: x[0] and x[1]\n",
    "gate_or   = lambda x: x[0] or  x[1]\n",
    "gate_nand = lambda x: 1 - gate_and(x)\n",
    "gate_nor  = lambda x: 1 - gate_or(x)\n",
    "gate_xor  = lambda x: gate_and((gate_or(x), gate_nand(x)))"
   ]
  },
  {
   "cell_type": "markdown",
   "metadata": {},
   "source": [
    "# Simple gate NN"
   ]
  },
  {
   "cell_type": "code",
   "execution_count": 3,
   "metadata": {
    "collapsed": true
   },
   "outputs": [],
   "source": [
    "class SimpleGate(object):\n",
    "    def __init__(self):\n",
    "        self.X  = tf.placeholder(tf.float32)\n",
    "        self.y  = tf.placeholder(tf.float32)        \n",
    "        \n",
    "        self.W = tf.Variable(tf.random_uniform([2, 1], -1.0, 1.0))        \n",
    "        self.b = tf.Variable(tf.zeros([1]))        \n",
    "        \n",
    "        self.hypothesis = tf.sigmoid(tf.matmul(self.X, self.W) + self.b)        \n",
    "        self.loss = tf.reduce_mean(-self.y * tf.log(self.hypothesis) - (1-self.y) * tf.log(1-self.hypothesis))"
   ]
  },
  {
   "cell_type": "markdown",
   "metadata": {},
   "source": [
    "# Deep gate NN"
   ]
  },
  {
   "cell_type": "code",
   "execution_count": 4,
   "metadata": {
    "collapsed": true
   },
   "outputs": [],
   "source": [
    "class DeepGate(object):\n",
    "    def __init__(self):\n",
    "        self.X = tf.placeholder(tf.float32)\n",
    "        self.y = tf.placeholder(tf.float32)        \n",
    "        \n",
    "        self.W1 = tf.Variable(tf.random_uniform([2, 5], -1.0, 1.0))\n",
    "        self.W2 = tf.Variable(tf.random_uniform([5, 4], -1.0, 1.0))\n",
    "        self.W3 = tf.Variable(tf.random_uniform([4, 1], -1.0, 1.0))        \n",
    "        self.b1 = tf.Variable(tf.zeros([5]))\n",
    "        self.b2 = tf.Variable(tf.zeros([4]))\n",
    "        self.b3 = tf.Variable(tf.zeros([1]))        \n",
    "        self.L2 = tf.sigmoid(tf.matmul(self.X,  self.W1) + self.b1)\n",
    "        self.L3 = tf.sigmoid(tf.matmul(self.L2, self.W2) + self.b2)\n",
    "        \n",
    "        self.hypothesis = tf.sigmoid(tf.matmul(self.L3, self.W3) + self.b3)        \n",
    "        self.loss = tf.reduce_mean(-self.y * tf.log(self.hypothesis) - (1-self.y) * tf.log(1-self.hypothesis))"
   ]
  },
  {
   "cell_type": "markdown",
   "metadata": {},
   "source": [
    "# Training and results"
   ]
  },
  {
   "cell_type": "code",
   "execution_count": 5,
   "metadata": {
    "collapsed": false
   },
   "outputs": [
    {
     "name": "stdout",
     "output_type": "stream",
     "text": [
      "Training Simple Gate - AND ...\n",
      "Training Simple Gate - OR ...\n",
      "Training Simple Gate - NAND ...\n",
      "Training Simple Gate - NOR ...\n",
      "Training Simple Gate - XOR ...\n",
      "Simple Gate Results\n",
      "x1\tx2\tAND\tOR\tNAND\tNOR\tXOR\n",
      "0\t0\t0 (0)\t0 (0)\t1 (1)\t1 (1)\t0 (0)\n",
      "0\t1\t0 (0)\t1 (1)\t1 (1)\t0 (0)\t0 (1)\n",
      "1\t0\t0 (0)\t1 (1)\t1 (1)\t0 (0)\t0 (1)\n",
      "1\t1\t1 (1)\t1 (1)\t0 (0)\t0 (0)\t0 (0)\n",
      "Training Deep Gate - AND ...\n",
      "Training Deep Gate - OR ...\n",
      "Training Deep Gate - NAND ...\n",
      "Training Deep Gate - NOR ...\n",
      "Training Deep Gate - XOR ...\n",
      "Deep Gate Results\n",
      "x1\tx2\tAND\tOR\tNAND\tNOR\tXOR\n",
      "0\t0\t0 (0)\t0 (0)\t1 (1)\t1 (1)\t0 (0)\n",
      "0\t1\t0 (0)\t1 (1)\t1 (1)\t0 (0)\t1 (1)\n",
      "1\t0\t0 (0)\t1 (1)\t1 (1)\t0 (0)\t1 (1)\n",
      "1\t1\t1 (1)\t1 (1)\t0 (0)\t0 (0)\t0 (0)\n"
     ]
    }
   ],
   "source": [
    "nn_list = [('Simple Gate', SimpleGate()), ('Deep Gate', DeepGate())]\n",
    "gate_list = [('AND', gate_and), ('OR', gate_or), ('NAND', gate_nand), ('NOR', gate_nor), ('XOR', gate_xor)]\n",
    "data_x = np.array([[0., 0.], [0., 1.], [1., 0.], [1., 1.]]).astype(np.float32)\n",
    "\n",
    "for nn_name, nn in nn_list:\n",
    "    predictions = {}\n",
    "    for gate_name, gate_body in gate_list:\n",
    "        print('Training %s - %s ...'%(nn_name, gate_name))\n",
    "        \n",
    "        # Generate gold-standard answers\n",
    "        data_y = np.array(map(gate_body, [(_[0], _[1]) for _ in data_x])).reshape(4, 1)\n",
    "        \n",
    "        # Fit the neural network\n",
    "        optimizer = tf.train.GradientDescentOptimizer(tf.Variable(0.1))\n",
    "        train_op = optimizer.minimize(nn.loss)\n",
    "        init = tf.global_variables_initializer()\n",
    "        with tf.Session() as sess:\n",
    "            sess.run(init)\n",
    "            num_iter = 20000\n",
    "            for i in xrange(num_iter):\n",
    "                sess.run(train_op, feed_dict={nn.X:data_x, nn.y:data_y})        \n",
    "            prediction = np.round(sess.run(nn.hypothesis, feed_dict={nn.X:data_x}))\n",
    "            predictions[gate_name] = prediction\n",
    "            accuracy = np.average(data_y == prediction)\n",
    "    \n",
    "    # Print results\n",
    "    print('%s Results'%nn_name)\n",
    "    print('x1\\tx2\\tAND\\tOR\\tNAND\\tNOR\\tXOR')\n",
    "    for i in xrange(4):\n",
    "        print('%d\\t%d\\t%d (%d)\\t%d (%d)\\t%d (%d)\\t%d (%d)\\t%d (%d)'%(\n",
    "                data_x[i][0], data_x[i][1],\n",
    "                predictions['AND'][i],  gate_and((data_x[i][0], data_x[i][1])),\n",
    "                predictions['OR'][i],   gate_or((data_x[i][0], data_x[i][1])),\n",
    "                predictions['NAND'][i], gate_nand((data_x[i][0], data_x[i][1])),\n",
    "                predictions['NOR'][i],  gate_nor((data_x[i][0], data_x[i][1])),\n",
    "                predictions['XOR'][i],  gate_xor((data_x[i][0], data_x[i][1]))))"
   ]
  }
 ],
 "metadata": {
  "kernelspec": {
   "display_name": "Python 2",
   "language": "python",
   "name": "python2"
  },
  "language_info": {
   "codemirror_mode": {
    "name": "ipython",
    "version": 2
   },
   "file_extension": ".py",
   "mimetype": "text/x-python",
   "name": "python",
   "nbconvert_exporter": "python",
   "pygments_lexer": "ipython2",
   "version": "2.7.6"
  }
 },
 "nbformat": 4,
 "nbformat_minor": 0
}
