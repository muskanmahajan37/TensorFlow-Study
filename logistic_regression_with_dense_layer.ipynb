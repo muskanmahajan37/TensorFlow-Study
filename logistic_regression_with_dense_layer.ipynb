{
 "cells": [
  {
   "cell_type": "code",
   "execution_count": 1,
   "metadata": {
    "collapsed": true
   },
   "outputs": [],
   "source": [
    "import numpy as np\n",
    "import matplotlib.pyplot as plt\n",
    "import tensorflow as tf\n",
    "from sklearn.utils import shuffle\n",
    "%matplotlib inline"
   ]
  },
  {
   "cell_type": "markdown",
   "metadata": {},
   "source": [
    "### Data generation"
   ]
  },
  {
   "cell_type": "code",
   "execution_count": 2,
   "metadata": {
    "collapsed": false
   },
   "outputs": [],
   "source": [
    "data_size = 2000\n",
    "data_x_0 = np.zeros((data_size / 2, 2))\n",
    "data_x_1 = np.zeros((data_size / 2, 2))\n",
    "for row in range(data_size / 2):\n",
    "    data_x_0[row] = (np.random.normal(-1., .5), np.random.normal(-0.5, .5))\n",
    "    data_x_1[row] = (np.random.normal(+1., .5), np.random.normal(+0.5, .5))\n",
    "data_x = np.row_stack((data_x_0, data_x_1))\n",
    "data_y = np.row_stack((np.zeros((data_size / 2, 1)), np.ones((data_size / 2, 1))))\n",
    "data_x, data_y = shuffle(data_x, data_y)"
   ]
  },
  {
   "cell_type": "markdown",
   "metadata": {},
   "source": [
    "### Design"
   ]
  },
  {
   "cell_type": "code",
   "execution_count": 3,
   "metadata": {
    "collapsed": false
   },
   "outputs": [],
   "source": [
    "x = tf.placeholder(tf.float32, shape=(None, 2))\n",
    "y_true = tf.placeholder(tf.float32)\n",
    "y_pred = tf.layers.dense(inputs=x, units=1, activation=tf.nn.sigmoid)\n",
    "loss = tf.losses.absolute_difference(y_true, y_pred)"
   ]
  },
  {
   "cell_type": "markdown",
   "metadata": {},
   "source": [
    "### Trainining"
   ]
  },
  {
   "cell_type": "code",
   "execution_count": 4,
   "metadata": {
    "collapsed": false
   },
   "outputs": [
    {
     "name": "stdout",
     "output_type": "stream",
     "text": [
      "iter\tloss\n",
      "1\t0.459\n",
      "100\t0.144\n",
      "200\t0.093\n",
      "300\t0.073\n",
      "400\t0.062\n",
      "500\t0.056\n",
      "600\t0.051\n",
      "700\t0.047\n",
      "800\t0.044\n",
      "900\t0.042\n",
      "1000\t0.040\n"
     ]
    }
   ],
   "source": [
    "optimizer = tf.train.GradientDescentOptimizer(tf.Variable(0.1))\n",
    "train_op = optimizer.minimize(loss)\n",
    "\n",
    "init = tf.global_variables_initializer()\n",
    "with tf.Session() as sess:\n",
    "    # Fit the model\n",
    "    sess.run(init)\n",
    "    print('iter\\tloss')\n",
    "    for i in xrange(1000):\n",
    "        _, temp = sess.run([train_op, loss], feed_dict={x:data_x, y_true:data_y})\n",
    "        if ((i+1) % 100 == 0) or i == 0:\n",
    "            print '%d\\t%.3f'%(i+1, temp)"
   ]
  }
 ],
 "metadata": {
  "kernelspec": {
   "display_name": "Python 2",
   "language": "python",
   "name": "python2"
  },
  "language_info": {
   "codemirror_mode": {
    "name": "ipython",
    "version": 2
   },
   "file_extension": ".py",
   "mimetype": "text/x-python",
   "name": "python",
   "nbconvert_exporter": "python",
   "pygments_lexer": "ipython2",
   "version": "2.7.6"
  }
 },
 "nbformat": 4,
 "nbformat_minor": 0
}
